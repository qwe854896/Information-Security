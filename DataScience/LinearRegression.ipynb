{
 "cells": [
  {
   "cell_type": "code",
   "execution_count": 1,
   "metadata": {},
   "outputs": [
    {
     "data": {
      "text/plain": [
       "[<matplotlib.lines.Line2D at 0x234207862e8>]"
      ]
     },
     "execution_count": 1,
     "metadata": {},
     "output_type": "execute_result"
    },
    {
     "data": {
      "image/png": "[encoded data removed]",
      "text/plain": [
       "<Figure size 432x288 with 1 Axes>"
      ]
     },
     "metadata": {
      "needs_background": "light"
     },
     "output_type": "display_data"
    }
   ],
   "source": [
    "%matplotlib inline\n",
    "import numpy as np\n",
    "import matplotlib.pyplot as plt\n",
    "\n",
    "SAMPLES = 100 # sample_num\n",
    "WEIGHTS = np.array([-.14, .4, -1.3, 1.0]) #f()\n",
    "\n",
    "x = np.random.random_sample(SAMPLES)\n",
    "y = .005 * np.random.randn(SAMPLES)\n",
    "for i in range(len(WEIGHTS)):\n",
    "    y += WEIGHTS[i] * (x ** i)\n",
    "\n",
    "plt.plot(x, y, 'o')"
   ]
  },
  {
   "cell_type": "code",
   "execution_count": 2,
   "metadata": {},
   "outputs": [],
   "source": [
    "ITER = 1000000\n",
    "LEARNING_RATE = 1\n",
    "\n",
    "def LinearRegressionGrad(X_train, y_train):\n",
    "    target_nums = X_train.shape[0]\n",
    "    feature_nums = X_train.shape[1]\n",
    "    \n",
    "    weights = np.random.rand(feature_nums) # model\n",
    "    lr_weights = np.zeros_like(weights) # learning_rate of model\n",
    "\n",
    "    for i in range(ITER):\n",
    "        sigma_sum = 0\n",
    "        weights_grad = np.zeros_like(weights) # gradient of weights\n",
    "        for j in range(target_nums):\n",
    "            sigma = y_train[j] - (weights * X_train[j]).sum(); # temp\n",
    "            sigma_sum += sigma * sigma\n",
    "            for k in range(feature_nums):\n",
    "                weights_grad[k] -= 2.0 * sigma * X_train[j][k] # gradient\n",
    "                lr_weights[k] += weights_grad[k] ** 2 # fix learning_rate (AdaGrad)\n",
    "                \n",
    "        for j in range(feature_nums):\n",
    "            weights[j] -= LEARNING_RATE / np.sqrt(lr_weights[j]) * weights_grad[j] # fix weights\n",
    "        \n",
    "        if sigma_sum < 0.005:\n",
    "            print(\"Early stoping!!!\")\n",
    "            return weights\n",
    "        \n",
    "        if i % 1000 == 0:\n",
    "            print(f'Iter: {i}')\n",
    "            print(f'Loss: {sigma_sum}')\n",
    "            \n",
    "            \n",
    "    return weights"
   ]
  },
  {
   "cell_type": "code",
   "execution_count": 3,
   "metadata": {},
   "outputs": [
    {
     "name": "stdout",
     "output_type": "stream",
     "text": [
      "Iter: 0\n",
      "Loss: 199.78621473052266\n",
      "Iter: 1000\n",
      "Loss: 0.02785101775489395\n",
      "Iter: 2000\n",
      "Loss: 0.02301709530532139\n",
      "Iter: 3000\n",
      "Loss: 0.021787931703375327\n",
      "Iter: 4000\n",
      "Loss: 0.020900291505369276\n",
      "Iter: 5000\n",
      "Loss: 0.0200768390638292\n",
      "Iter: 6000\n",
      "Loss: 0.01929253660791034\n",
      "Iter: 7000\n",
      "Loss: 0.018543737949868567\n",
      "Iter: 8000\n",
      "Loss: 0.01782867542718652\n",
      "Iter: 9000\n",
      "Loss: 0.017145807189594554\n",
      "Iter: 10000\n",
      "Loss: 0.01649367428446854\n",
      "Iter: 11000\n",
      "Loss: 0.015870885577459744\n",
      "Iter: 12000\n",
      "Loss: 0.015276113636312816\n",
      "Iter: 13000\n",
      "Loss: 0.014708091680894072\n",
      "Iter: 14000\n",
      "Loss: 0.01416561075404554\n",
      "Iter: 15000\n",
      "Loss: 0.01364751703483291\n",
      "Iter: 16000\n",
      "Loss: 0.013152709281202112\n",
      "Iter: 17000\n",
      "Loss: 0.012680136394989076\n",
      "Iter: 18000\n",
      "Loss: 0.012228795103067307\n",
      "Iter: 19000\n",
      "Loss: 0.011797727748799804\n",
      "Iter: 20000\n",
      "Loss: 0.011386020188282414\n",
      "Iter: 21000\n",
      "Loss: 0.01099279978616525\n",
      "Iter: 22000\n",
      "Loss: 0.01061723350611867\n",
      "Iter: 23000\n",
      "Loss: 0.010258526091272872\n",
      "Iter: 24000\n",
      "Loss: 0.009915918330209198\n",
      "Iter: 25000\n",
      "Loss: 0.00958868540431268\n",
      "Iter: 26000\n",
      "Loss: 0.009276135312516023\n",
      "Iter: 27000\n",
      "Loss: 0.008977607369671396\n",
      "Iter: 28000\n",
      "Loss: 0.008692470774982081\n",
      "Iter: 29000\n",
      "Loss: 0.008420123247108273\n",
      "Iter: 30000\n",
      "Loss: 0.00815998972273681\n",
      "Iter: 31000\n",
      "Loss: 0.007911521115566752\n",
      "Iter: 32000\n",
      "Loss: 0.007674193132818025\n",
      "Iter: 33000\n",
      "Loss: 0.007447505146516291\n",
      "Iter: 34000\n",
      "Loss: 0.007230979116945232\n",
      "Iter: 35000\n",
      "Loss: 0.0070241585657882305\n",
      "Iter: 36000\n",
      "Loss: 0.006826607596604117\n",
      "Iter: 37000\n",
      "Loss: 0.006637909960399798\n",
      "Iter: 38000\n",
      "Loss: 0.006457668164171855\n",
      "Iter: 39000\n",
      "Loss: 0.0062855026203948216\n",
      "Iter: 40000\n",
      "Loss: 0.006121050835532458\n",
      "Iter: 41000\n",
      "Loss: 0.005963966635742914\n",
      "Iter: 42000\n",
      "Loss: 0.005813919428037422\n",
      "Iter: 43000\n",
      "Loss: 0.005670593495236241\n",
      "Iter: 44000\n",
      "Loss: 0.005533687323146904\n",
      "Iter: 45000\n",
      "Loss: 0.005402912958464225\n",
      "Iter: 46000\n",
      "Loss: 0.0052779953959651935\n",
      "Iter: 47000\n",
      "Loss: 0.005158671993638895\n",
      "Iter: 48000\n",
      "Loss: 0.00504469191445807\n",
      "Early stoping!!!\n",
      "[-0.12816445  0.24734374 -0.91774807  0.75041294]\n"
     ]
    },
    {
     "data": {
      "text/plain": [
       "[<matplotlib.lines.Line2D at 0x234207dcba8>]"
      ]
     },
     "execution_count": 3,
     "metadata": {},
     "output_type": "execute_result"
    },
    {
     "data": {
      "image/png": "[encoded data removed]",
      "text/plain": [
       "<Figure size 432x288 with 1 Axes>"
      ]
     },
     "metadata": {
      "needs_background": "light"
     },
     "output_type": "display_data"
    }
   ],
   "source": [
    "X = np.array([x ** i for i in range(4)]).T\n",
    "model = LinearRegressionGrad(X, y)\n",
    "\n",
    "print(model)\n",
    "plt.plot(x, y, 'o')\n",
    "\n",
    "x_test = np.linspace(0, 1, 1000)\n",
    "y_test = np.zeros_like(x_test)\n",
    "for i in range(len(model)):\n",
    "    y_test += model[i] * (x_test ** i)\n",
    "    \n",
    "plt.plot(x_test, y_test)"
   ]
  },
  {
   "cell_type": "code",
   "execution_count": null,
   "metadata": {},
   "outputs": [],
   "source": []
  }
 ],
 "metadata": {
  "kernelspec": {
   "display_name": "Python 3",
   "language": "python",
   "name": "python3"
  },
  "language_info": {
   "codemirror_mode": {
    "name": "ipython",
    "version": 3
   },
   "file_extension": ".py",
   "mimetype": "text/x-python",
   "name": "python",
   "nbconvert_exporter": "python",
   "pygments_lexer": "ipython3",
   "version": "3.7.1"
  }
 },
 "nbformat": 4,
 "nbformat_minor": 2
}
