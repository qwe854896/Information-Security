{
  "nbformat": 4,
  "nbformat_minor": 0,
  "metadata": {
    "colab": {
      "name": "20191224.ipynb",
      "provenance": [],
      "include_colab_link": true
    },
    "kernelspec": {
      "name": "python3",
      "display_name": "Python 3"
    }
  },
  "cells": [
    {
      "cell_type": "markdown",
      "metadata": {
        "id": "view-in-github",
        "colab_type": "text"
      },
      "source": [
        "<a href=\"https://colab.research.google.com/github/qwe854896/Information-Security/blob/master/20191224.ipynb\" target=\"_parent\"><img src=\"https://colab.research.google.com/assets/colab-badge.svg\" alt=\"Open In Colab\"/></a>"
      ]
    },
    {
      "cell_type": "markdown",
      "metadata": {
        "id": "jgDOKmvjvjxM",
        "colab_type": "text"
      },
      "source": [
        "# 20191224"
      ]
    },
    {
      "cell_type": "markdown",
      "metadata": {
        "id": "egEs0KCWwpBg",
        "colab_type": "text"
      },
      "source": [
        "## NeuralNetwork"
      ]
    },
    {
      "cell_type": "code",
      "metadata": {
        "id": "01-4VOkwxbDL",
        "colab_type": "code",
        "colab": {}
      },
      "source": [
        "import numpy as np"
      ],
      "execution_count": 0,
      "outputs": []
    },
    {
      "cell_type": "code",
      "metadata": {
        "id": "c1F567KGxfXM",
        "colab_type": "code",
        "colab": {}
      },
      "source": [
        "def MSE(y, x): # np.array\n",
        "    return 0.5 * (np.sum( (y-x) ** 2) )"
      ],
      "execution_count": 0,
      "outputs": []
    },
    {
      "cell_type": "code",
      "metadata": {
        "id": "D-VVD1EGzUR4",
        "colab_type": "code",
        "colab": {}
      },
      "source": [
        "def numercial_diff(f, x): # a function f with a number x\n",
        "    h = .0001\n",
        "    return ( ( f(x+h) - f(x-h) ) / (2*h) )"
      ],
      "execution_count": 0,
      "outputs": []
    },
    {
      "cell_type": "code",
      "metadata": {
        "id": "NdfwU0Sx02pn",
        "colab_type": "code",
        "colab": {}
      },
      "source": [
        "def Gradient(f, X): # a function f with some numbers X\n"
      ],
      "execution_count": 0,
      "outputs": []
    },
    {
      "cell_type": "code",
      "metadata": {
        "id": "GAz0x4VivE-D",
        "colab_type": "code",
        "colab": {}
      },
      "source": [
        "def BP(networks):\n",
        "    return 0"
      ],
      "execution_count": 0,
      "outputs": []
    }
  ]
}