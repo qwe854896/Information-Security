{
  "nbformat": 4,
  "nbformat_minor": 0,
  "metadata": {
    "colab": {
      "name": "AI4high.ipynb",
      "provenance": []
    },
    "kernelspec": {
      "name": "python3",
      "display_name": "Python 3"
    }
  },
  "cells": [
    {
      "cell_type": "code",
      "metadata": {
        "id": "D25uAIYJpuXq",
        "colab_type": "code",
        "outputId": "61cc8928-81c4-4fbf-bc34-7c315b154e4c",
        "colab": {
          "base_uri": "https://localhost:8080/",
          "height": 87
        }
      },
      "source": [
        "import pandas as pd\n",
        "print(\"pandas version: %s\" % pd.__version__)\n",
        "import matplotlib\n",
        "print(\"matplotlib version: %s\" % matplotlib.__version__)\n",
        "import numpy as np\n",
        "print(\"numpy version: %s\" % np.__version__)\n",
        "import sklearn\n",
        "print(\"scikit-learn version: %s\" % sklearn.__version__)"
      ],
      "execution_count": 0,
      "outputs": [
        {
          "output_type": "stream",
          "text": [
            "pandas version: 0.25.3\n",
            "matplotlib version: 3.1.1\n",
            "numpy version: 1.17.4\n",
            "scikit-learn version: 0.21.3\n"
          ],
          "name": "stdout"
        }
      ]
    },
    {
      "cell_type": "code",
      "metadata": {
        "id": "DAKrsbBHrXY5",
        "colab_type": "code",
        "outputId": "abc4652e-8e41-407f-dac6-c70309611ff7",
        "colab": {
          "base_uri": "https://localhost:8080/",
          "height": 69
        }
      },
      "source": [
        "arr = np.array([1.887, 4, 2, 8, 5, 7], dtype='float')\n",
        "print(\"%s\\nndim: %s, shape: %s, dtype: %s\" % (arr, arr.ndim, arr.shape, arr.dtype))\n",
        "\n",
        "f_arr = arr.astype(int)\n",
        "print(f_arr)"
      ],
      "execution_count": 0,
      "outputs": [
        {
          "output_type": "stream",
          "text": [
            "[1.887 4.    2.    8.    5.    7.   ]\n",
            "ndim: 1, shape: (6,), dtype: float64\n",
            "[1 4 2 8 5 7]\n"
          ],
          "name": "stdout"
        }
      ]
    },
    {
      "cell_type": "markdown",
      "metadata": {
        "id": "kmmI-kwltmGc",
        "colab_type": "text"
      },
      "source": [
        "How to build an array?"
      ]
    },
    {
      "cell_type": "code",
      "metadata": {
        "id": "6NGFNDFWtuBY",
        "colab_type": "code",
        "outputId": "cdf319d6-7183-42f5-8b51-b525e93fe44b",
        "colab": {
          "base_uri": "https://localhost:8080/",
          "height": 312
        }
      },
      "source": [
        "x = np.array([[1,2.0],[0,0],(1+1j,3.)])\n",
        "print(x)\n",
        "\n",
        "x = np.zeros((2, 3))\n",
        "print(x)\n",
        "\n",
        "x = np.ones((2, 3))\n",
        "print(x)\n",
        "\n",
        "x = np.eye(3)\n",
        "print(x)\n",
        "\n",
        "x = np.arange(2, 3, 0.1)\n",
        "print(x)\n",
        "\n",
        "x = np.linspace(2, 3, 6)\n",
        "print(x)\n",
        "\n",
        "x = np.indices((2, 3))\n",
        "print(x)"
      ],
      "execution_count": 0,
      "outputs": [
        {
          "output_type": "stream",
          "text": [
            "[[1.+0.j 2.+0.j]\n",
            " [0.+0.j 0.+0.j]\n",
            " [1.+1.j 3.+0.j]]\n",
            "[[0. 0. 0.]\n",
            " [0. 0. 0.]]\n",
            "[[1. 1. 1.]\n",
            " [1. 1. 1.]]\n",
            "[[1. 0. 0.]\n",
            " [0. 1. 0.]\n",
            " [0. 0. 1.]]\n",
            "[2.  2.1 2.2 2.3 2.4 2.5 2.6 2.7 2.8 2.9]\n",
            "[2.  2.2 2.4 2.6 2.8 3. ]\n",
            "[[[0 0 0]\n",
            "  [1 1 1]]\n",
            "\n",
            " [[0 1 2]\n",
            "  [0 1 2]]]\n"
          ],
          "name": "stdout"
        }
      ]
    },
    {
      "cell_type": "code",
      "metadata": {
        "id": "NniRl0Vvv1Me",
        "colab_type": "code",
        "outputId": "3bb78b35-08af-448c-a86c-bd4389a353c8",
        "colab": {
          "base_uri": "https://localhost:8080/",
          "height": 433
        }
      },
      "source": [
        "arr = np.arange(24)\n",
        "print(arr)\n",
        "\n",
        "arr = arr.reshape(2, 3, 4)\n",
        "print(arr)\n",
        "\n",
        "print(arr.ravel())\n",
        "\n",
        "print(arr.T)"
      ],
      "execution_count": 0,
      "outputs": [
        {
          "output_type": "stream",
          "text": [
            "[ 0  1  2  3  4  5  6  7  8  9 10 11 12 13 14 15 16 17 18 19 20 21 22 23]\n",
            "[[[ 0  1  2  3]\n",
            "  [ 4  5  6  7]\n",
            "  [ 8  9 10 11]]\n",
            "\n",
            " [[12 13 14 15]\n",
            "  [16 17 18 19]\n",
            "  [20 21 22 23]]]\n",
            "[ 0  1  2  3  4  5  6  7  8  9 10 11 12 13 14 15 16 17 18 19 20 21 22 23]\n",
            "[[[ 0 12]\n",
            "  [ 4 16]\n",
            "  [ 8 20]]\n",
            "\n",
            " [[ 1 13]\n",
            "  [ 5 17]\n",
            "  [ 9 21]]\n",
            "\n",
            " [[ 2 14]\n",
            "  [ 6 18]\n",
            "  [10 22]]\n",
            "\n",
            " [[ 3 15]\n",
            "  [ 7 19]\n",
            "  [11 23]]]\n"
          ],
          "name": "stdout"
        }
      ]
    },
    {
      "cell_type": "code",
      "metadata": {
        "id": "dCb8mqgezfGH",
        "colab_type": "code",
        "outputId": "c47808dc-9d0a-4397-be80-bec88c4649f2",
        "colab": {
          "base_uri": "https://localhost:8080/",
          "height": 139
        }
      },
      "source": [
        "ar = np.array([[2,3,4],[9,8,7],[11,12,13]]); \n",
        "print(ar)\n",
        "print(ar[1,2])\n",
        "print(ar[2,:])\n",
        "print(ar[:,1])\n",
        "print(ar[2,-1])"
      ],
      "execution_count": 0,
      "outputs": [
        {
          "output_type": "stream",
          "text": [
            "[[ 2  3  4]\n",
            " [ 9  8  7]\n",
            " [11 12 13]]\n",
            "7\n",
            "[11 12 13]\n",
            "[ 3  8 12]\n",
            "13\n"
          ],
          "name": "stdout"
        }
      ]
    },
    {
      "cell_type": "code",
      "metadata": {
        "id": "9nbkKCIP1yjB",
        "colab_type": "code",
        "outputId": "d37f7ceb-a98f-4486-ce95-64cd06259d62",
        "colab": {
          "base_uri": "https://localhost:8080/",
          "height": 35
        }
      },
      "source": [
        "ar = range(1000)\n",
        "%timeit [ar[i]**3 for i in ar]"
      ],
      "execution_count": 0,
      "outputs": [
        {
          "output_type": "stream",
          "text": [
            "1000 loops, best of 3: 363 µs per loop\n"
          ],
          "name": "stdout"
        }
      ]
    },
    {
      "cell_type": "code",
      "metadata": {
        "id": "JozHHFDJ2Crs",
        "colab_type": "code",
        "outputId": "8844024e-83e9-4446-d3c1-67023d17b1cb",
        "colab": {
          "base_uri": "https://localhost:8080/",
          "height": 52
        }
      },
      "source": [
        "ar = np.arange(1000)\n",
        "%timeit ar**3"
      ],
      "execution_count": 0,
      "outputs": [
        {
          "output_type": "stream",
          "text": [
            "The slowest run took 22.95 times longer than the fastest. This could mean that an intermediate result is being cached.\n",
            "100000 loops, best of 3: 3.49 µs per loop\n"
          ],
          "name": "stdout"
        }
      ]
    },
    {
      "cell_type": "code",
      "metadata": {
        "id": "5zxkGfECnis-",
        "colab_type": "code",
        "colab": {}
      },
      "source": [
        ""
      ],
      "execution_count": 0,
      "outputs": []
    }
  ]
}